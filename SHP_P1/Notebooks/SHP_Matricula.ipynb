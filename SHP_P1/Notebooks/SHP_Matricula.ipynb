{
 "cells": [
  {
   "cell_type": "markdown",
   "id": "b6bde5eb",
   "metadata": {},
   "source": [
    "# Análisis Exploratorio de Datos con Python – Spotify Top 50\n",
    "\n",
    "---"
   ]
  },
  {
   "cell_type": "markdown",
   "id": "d059665d",
   "metadata": {},
   "source": [
    "## Importar librerías básicas"
   ]
  },
  {
   "cell_type": "code",
   "execution_count": null,
   "id": "23c3c788",
   "metadata": {},
   "outputs": [],
   "source": [
    "# Importa pandas, numpy, matplotlib.pyplot y seaborn"
   ]
  },
  {
   "cell_type": "markdown",
   "id": "061c5614",
   "metadata": {},
   "source": [
    "## Cargar los datos a un DataFrame"
   ]
  },
  {
   "cell_type": "code",
   "execution_count": null,
   "id": "9009d3d6",
   "metadata": {},
   "outputs": [],
   "source": [
    "# Carga el archivo 'top50.csv' en un DataFrame"
   ]
  },
  {
   "cell_type": "markdown",
   "id": "901b90b9",
   "metadata": {},
   "source": [
    "## Mostrar las columnas del DataFrame"
   ]
  },
  {
   "cell_type": "code",
   "execution_count": null,
   "id": "2011320e",
   "metadata": {},
   "outputs": [],
   "source": [
    "# Muestra las columnas del DataFrame"
   ]
  },
  {
   "cell_type": "markdown",
   "id": "704d48a3",
   "metadata": {},
   "source": [
    "## Mostrar las dimensiones del DataFrame"
   ]
  },
  {
   "cell_type": "code",
   "execution_count": null,
   "id": "8348c359",
   "metadata": {},
   "outputs": [],
   "source": [
    "# Muestra las dimensiones (filas, columnas)"
   ]
  },
  {
   "cell_type": "markdown",
   "id": "01878377",
   "metadata": {},
   "source": [
    "## Mostrar estadísticas descriptivas"
   ]
  },
  {
   "cell_type": "code",
   "execution_count": null,
   "id": "fb6efa77",
   "metadata": {},
   "outputs": [],
   "source": [
    "# Muestra las estadísticas descriptivas del DataFrame"
   ]
  },
  {
   "cell_type": "markdown",
   "id": "d9d38cf8",
   "metadata": {},
   "source": [
    "## Mostrar información general del DataFrame"
   ]
  },
  {
   "cell_type": "code",
   "execution_count": null,
   "id": "269e7a0c",
   "metadata": {},
   "outputs": [],
   "source": [
    "# Muestra la información general con info()"
   ]
  },
  {
   "cell_type": "markdown",
   "id": "af018e7e",
   "metadata": {},
   "source": [
    "## Mostrar el tipo de datos de cada columna"
   ]
  },
  {
   "cell_type": "code",
   "execution_count": null,
   "id": "b164fe20",
   "metadata": {},
   "outputs": [],
   "source": [
    "# Muestra los tipos de datos de cada columna"
   ]
  },
  {
   "cell_type": "markdown",
   "id": "cd0a6a44",
   "metadata": {},
   "source": [
    "## Limpieza de datos"
   ]
  },
  {
   "cell_type": "code",
   "execution_count": null,
   "id": "3db14954",
   "metadata": {},
   "outputs": [],
   "source": [
    "# Crea una copia del DataFrame para trabajar con ella\n",
    "# Revisa si hay valores nulos\n",
    "# Revisa si hay registros duplicados\n",
    "# Elimina la primera columna si es una columna índice innecesaria\n",
    "# Muestra las dimensiones del DataFrame\n",
    "# Elimina los registros duplicados (si hay)"
   ]
  },
  {
   "cell_type": "markdown",
   "id": "af66ce20",
   "metadata": {},
   "source": [
    "## Análisis exploratorio"
   ]
  },
  {
   "cell_type": "code",
   "execution_count": null,
   "id": "43c4166a",
   "metadata": {},
   "outputs": [],
   "source": [
    "# Muestra los primeros registros\n",
    "# Muestra los últimos dos registros\n",
    "# Obtén el total de artistas únicos\n",
    "# Obtén los valores únicos del género\n",
    "# Muestra el promedio del tempo (Beats Per Minute)\n",
    "# Muestra el valor máximo del volumen (Loudness)\n",
    "# Muestra el valor mínimo de la energía\n",
    "# Muestra las canciones que duran más de 2 minutos\n",
    "# Muestra el promedio de cada columna numérica\n",
    "# Muestra la canción más larga\n",
    "# Muestra el nombre del artista de la canción más corta"
   ]
  },
  {
   "cell_type": "markdown",
   "id": "eb8f2cb7",
   "metadata": {},
   "source": [
    "## Consulta adicional: Artista más repetido"
   ]
  },
  {
   "cell_type": "code",
   "execution_count": null,
   "id": "9e7607a3",
   "metadata": {},
   "outputs": [],
   "source": [
    "# Obtén el artista más repetido\n",
    "# Filtra las canciones de ese artista\n",
    "# Muestra Popularidad, Energía y Bailabilidad de esas canciones\n",
    "# Calcula y compara los promedios de Popularidad, Energía y Bailabilidad\n",
    "# entre ese artista y el resto del DataFrame"
   ]
  },
  {
   "cell_type": "markdown",
   "id": "2513720c",
   "metadata": {},
   "source": [
    "## Visualización"
   ]
  },
  {
   "cell_type": "code",
   "execution_count": null,
   "id": "555ba1e4",
   "metadata": {},
   "outputs": [],
   "source": [
    "# Genera una gráfica de barras con el total de canciones por artista\n",
    "# Genera una gráfica de barras con el total de canciones por género\n",
    "# Genera un mapa de calor con la correlación entre columnas numéricas\n",
    "# Genera un gráfico de dispersión (scatter) de Popularidad vs Bailabilidad\n",
    "# coloreado por género"
   ]
  },
  {
   "cell_type": "markdown",
   "id": "1d34349f",
   "metadata": {},
   "source": [
    "## Nota importante"
   ]
  },
  {
   "cell_type": "code",
   "execution_count": null,
   "id": "35e9b4b5",
   "metadata": {},
   "outputs": [],
   "source": [
    "# Si tienes problemas al cargar el archivo por codificación, intenta usar:\n",
    "# pd.read_csv('top50.csv', encoding='latin-1')"
   ]
  },
  {
   "cell_type": "markdown",
   "id": "e12cec05",
   "metadata": {},
   "source": [
    "## Fin de la práctica"
   ]
  },
  {
   "cell_type": "code",
   "execution_count": null,
   "id": "b25ff740",
   "metadata": {},
   "outputs": [],
   "source": []
  }
 ],
 "metadata": {},
 "nbformat": 4,
 "nbformat_minor": 5
}
