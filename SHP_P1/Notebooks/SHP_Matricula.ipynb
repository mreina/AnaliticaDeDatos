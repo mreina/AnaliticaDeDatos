{
 "cells": [
  {
   "cell_type": "markdown",
   "id": "b6bde5eb",
   "metadata": {},
   "source": [
    "# Saber Hacer Producto – Spotify Top 50\n",
    "\n",
    "---"
   ]
  },
  {
   "cell_type": "markdown",
   "id": "d059665d",
   "metadata": {},
   "source": [
    "## Importar librerías básicas"
   ]
  },
  {
   "cell_type": "code",
   "execution_count": null,
   "id": "23c3c788",
   "metadata": {},
   "outputs": [],
   "source": [
    "# 1. Importa pandas, numpy, matplotlib.pyplot y seaborn"
   ]
  },
  {
   "cell_type": "markdown",
   "id": "061c5614",
   "metadata": {},
   "source": [
    "## Carga del DataFrame"
   ]
  },
  {
   "cell_type": "code",
   "execution_count": null,
   "id": "9009d3d6",
   "metadata": {},
   "outputs": [],
   "source": [
    "# 2. Cargar los datos a un dataframe para su revisión.\n",
    "# 3. Mostrar las columnas del dataframe.\n",
    "# 4. Mostrar las dimensiones del dataframe (50,14)\n",
    "# 5. Mostrar las estadísticas descriptivas.\n",
    "# 6. Mostrar la información del DataFrame.\n",
    "# 7. Muestra el tipo de datos que almacena cada columna."
   ]
  },
  {
   "cell_type": "markdown",
   "id": "cd0a6a44",
   "metadata": {},
   "source": [
    "## Limpieza de datos"
   ]
  },
  {
   "cell_type": "code",
   "execution_count": null,
   "id": "3db14954",
   "metadata": {},
   "outputs": [],
   "source": [
    "# 1. Genera una copia del DataFrame (De aqui en adelante, debes trabajar con la copia)\n",
    "# 2. Revisar si existen valores nulos\n",
    "# 3. Revisar si hay registros duplicados\n",
    "# 4. Elimina la columna 0.\n",
    "# 5. Muestra nuevamente las dimensiones de dataframe (50,13)\n",
    "# 6. Elimina los registros duplicados (FALSE)"
   ]
  },
  {
   "cell_type": "markdown",
   "id": "af66ce20",
   "metadata": {},
   "source": [
    "## Análisis exploratorio"
   ]
  },
  {
   "cell_type": "code",
   "execution_count": null,
   "id": "43c4166a",
   "metadata": {},
   "outputs": [],
   "source": [
    "# 1. Mostrar los primeros registros\n",
    "# 2. Mostrar los últimos dos registros\n",
    "# 3. Obtener el total de artista (únicos) sin duplicar.\n",
    "# 4. Obtener los valores unicos del Genero de la canción.\n",
    "# 5. Mostrar el valor promedio del tiempo de la canción.\n",
    "# 6. Mostrar el valor mayor del volumen de la canción.\n",
    "# 7. Mostrar el valor minimo de la energia de la cancion.\n",
    "# 8. Mostrar el promedio de cada columna numérica.\n",
    "# 9. Artista con más canciones en el Top 50.\n",
    "# 10. Analiza Ed Sheeran es el más popular, responde SI o NO, con base a la popularidad.\n",
    "# 11. Mostrar el genero con mas canciones\n",
    "# 12. Mostrar las 5 canciones más bailables."
   ]
  },
  {
   "cell_type": "markdown",
   "id": "eb8f2cb7",
   "metadata": {},
   "source": [
    "## Consulta adicional: Artista más repetido"
   ]
  },
  {
   "cell_type": "code",
   "execution_count": null,
   "id": "9e7607a3",
   "metadata": {},
   "outputs": [],
   "source": [
    "# Obtén el artista más repetido\n",
    "# Filtra las canciones de ese artista\n",
    "# Muestra Popularidad, Energía y Bailabilidad de esas canciones\n",
    "# Calcula y compara los promedios de Popularidad, Energía y Bailabilidad\n",
    "# entre ese artista y el resto del DataFrame"
   ]
  },
  {
   "cell_type": "markdown",
   "id": "2513720c",
   "metadata": {},
   "source": [
    "## Visualización de Datos"
   ]
  },
  {
   "cell_type": "code",
   "execution_count": null,
   "id": "555ba1e4",
   "metadata": {},
   "outputs": [],
   "source": [
    "# Genera una gráfica de barras con el total de canciones por artista\n",
    "# Genera una gráfica de barras con el total de canciones por género\n",
    "# Genera un mapa de calor con la correlación entre columnas numéricas\n",
    "# Genera un gráfico de dispersión (scatter) de  Popularidad vs Bailabilidad"
   ]
  },
  {
   "cell_type": "markdown",
   "id": "1d34349f",
   "metadata": {},
   "source": [
    "## Nota importante"
   ]
  },
  {
   "cell_type": "code",
   "execution_count": null,
   "id": "35e9b4b5",
   "metadata": {},
   "outputs": [],
   "source": [
    "# Si tienes problemas al cargar el archivo por codificación, intenta usar:\n",
    "# pd.read_csv('top50.csv', encoding='latin-1')"
   ]
  }
 ],
 "metadata": {
  "kernelspec": {
   "display_name": "Python 3 (ipykernel)",
   "language": "python",
   "name": "python3"
  },
  "language_info": {
   "codemirror_mode": {
    "name": "ipython",
    "version": 3
   },
   "file_extension": ".py",
   "mimetype": "text/x-python",
   "name": "python",
   "nbconvert_exporter": "python",
   "pygments_lexer": "ipython3",
   "version": "3.12.9"
  }
 },
 "nbformat": 4,
 "nbformat_minor": 5
}
